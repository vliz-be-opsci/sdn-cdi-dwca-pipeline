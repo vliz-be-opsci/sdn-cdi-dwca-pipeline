{
 "cells": [
  {
   "cell_type": "markdown",
   "id": "5587e4fd-fe6e-4229-9f6e-dd867801fed5",
   "metadata": {},
   "source": [
    "# EMOF Testing\n",
    "\n",
    "Generate EMOF from Event Data\n",
    "\n",
    "There is an issue where 18038021_Bio_Surf_V4 ODV file has a different tool from the others. "
   ]
  },
  {
   "cell_type": "code",
   "execution_count": 1,
   "id": "e39d06ee-1f07-4c20-a315-9459055f095c",
   "metadata": {},
   "outputs": [],
   "source": [
    "import pandas as pd\n",
    "pd.set_option('display.max_columns', None)"
   ]
  },
  {
   "cell_type": "code",
   "execution_count": 2,
   "id": "8a5642af-8fcd-48d5-b1b9-0fb1491c4a84",
   "metadata": {},
   "outputs": [],
   "source": [
    "file = '../datasets/IFREMER: Phytoplankton/61555/unzip/order_61555_unrestricted.csv'\n"
   ]
  },
  {
   "cell_type": "code",
   "execution_count": 4,
   "id": "f3855208-798e-46d2-bef6-e6d94414ea67",
   "metadata": {},
   "outputs": [
    {
     "data": {
      "text/plain": [
       "Index(['Data Set name', 'Discipline', 'Category', 'Variables measured',\n",
       "       'Data format', 'Data format version', 'Data size',\n",
       "       'Data Set creation Date', 'Latitude 1', 'Latitude 2', 'Longitude 1',\n",
       "       'Longitude 2', 'Datum', 'Measuring area type', 'Water depth (m)',\n",
       "       'Depth reference', 'Minimum instrument depth (m)',\n",
       "       'Maximum instrument depth (m)', 'Start Date', 'Start time', 'End Date',\n",
       "       'End time', 'Vertical resolution', 'Vertical resolution unit',\n",
       "       'Instrument / gear type', 'Track resolution', 'Track resolution unit',\n",
       "       'Frequency', 'Frequency unit', 'Platform type', 'Cruise name',\n",
       "       'Alternative cruise name', 'Cruise start Date', 'Station name',\n",
       "       'Alternative station name', 'Station start Date', 'Originator',\n",
       "       'Data Holding centre', 'Project name', 'Project type',\n",
       "       'EDMED references', 'CSR references', 'CSR platform name',\n",
       "       'CSR platform code', 'Publication references', 'Data Distributor',\n",
       "       'Database reference', 'Access/ordering of data', 'Access restriction',\n",
       "       'CDI-record creation date', 'CDI-record id', 'LOCAL_CDI_ID',\n",
       "       'CDI-partner'],\n",
       "      dtype='object')"
      ]
     },
     "execution_count": 4,
     "metadata": {},
     "output_type": "execute_result"
    }
   ],
   "source": [
    "df = pd.read_csv(file)\n",
    "df.columns"
   ]
  },
  {
   "cell_type": "code",
   "execution_count": null,
   "id": "2ba8388d-8ff5-4eb0-946b-9c9f82cc31e8",
   "metadata": {},
   "outputs": [],
   "source": [
    "for x,y in df.iloc[1].items():\n",
    "    print(x)\n",
    "    print(y)\n",
    "    print('----')"
   ]
  },
  {
   "cell_type": "code",
   "execution_count": null,
   "id": "c71df75b-1b61-46ab-9932-c304be127671",
   "metadata": {},
   "outputs": [],
   "source": [
    "data = {\n",
    "        '1': ['Instrument', 'Text', 'The tool used to measure ink'], \n",
    "        '2': ['Author', 'Text', 'The person who measured the ink'],\n",
    "        '3': ['Volume', 'L', 'The volume that was measured'],\n",
    "        '4': ['Colour', 'RGB', 'The colour of the ink']\n",
    "}\n",
    "\n",
    "emof_df = pd.DataFrame.from_dict(data, \n",
    "                   orient='index',\n",
    "                       columns=['MeasurementType','MeasurementUnits', 'MeasurementComment'])\n",
    "emof_df"
   ]
  },
  {
   "cell_type": "code",
   "execution_count": null,
   "id": "4004dc1b-f76c-4aa6-b6cd-d4e406ac296a",
   "metadata": {},
   "outputs": [],
   "source": [
    "def emof_gen(in_df, in_emof_df):\n",
    "    out_df = pd.DataFrame()\n",
    "    for index, row in in_df.iterrows(): \n",
    "        for key,value in row.items():\n",
    "            snippet = in_emof_df[in_emof_df['MeasurementType'] == key].copy()\n",
    "            snippet['Measurement'] = value\n",
    "            snippet['SampleID'] = row['SampleID']             \n",
    "            out_df = pd.concat([out_df,snippet])\n",
    "    return out_df.reset_index(drop=True)\n",
    "emof_gen(df, emof_df) "
   ]
  },
  {
   "cell_type": "code",
   "execution_count": null,
   "id": "46493e19-644f-4823-b8ab-a3d5e0ab967a",
   "metadata": {},
   "outputs": [],
   "source": []
  }
 ],
 "metadata": {
  "kernelspec": {
   "display_name": "Python 3 (ipykernel)",
   "language": "python",
   "name": "python3"
  },
  "language_info": {
   "codemirror_mode": {
    "name": "ipython",
    "version": 3
   },
   "file_extension": ".py",
   "mimetype": "text/x-python",
   "name": "python",
   "nbconvert_exporter": "python",
   "pygments_lexer": "ipython3",
   "version": "3.10.6"
  }
 },
 "nbformat": 4,
 "nbformat_minor": 5
}
